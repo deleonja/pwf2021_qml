{
  "nbformat": 4,
  "nbformat_minor": 0,
  "metadata": {
    "colab": {
      "name": "QML_Python_Worksheet_1.ipynb",
      "provenance": [],
      "collapsed_sections": [],
      "include_colab_link": true
    },
    "kernelspec": {
      "display_name": "Qiskit v0.32.1 (ipykernel)",
      "language": "python",
      "name": "python3"
    },
    "language_info": {
      "codemirror_mode": {
        "name": "ipython",
        "version": 3
      },
      "file_extension": ".py",
      "mimetype": "text/x-python",
      "name": "python",
      "nbconvert_exporter": "python",
      "pygments_lexer": "ipython3",
      "version": "3.8.10"
    }
  },
  "cells": [
    {
      "cell_type": "markdown",
      "metadata": {
        "id": "view-in-github",
        "colab_type": "text"
      },
      "source": [
        "<a href=\"https://colab.research.google.com/github/deleonja/pwf2021_qml/blob/main/QML_Python_Worksheet_1.ipynb\" target=\"_parent\"><img src=\"https://colab.research.google.com/assets/colab-badge.svg\" alt=\"Open In Colab\"/></a>"
      ]
    },
    {
      "cell_type": "code",
      "metadata": {
        "id": "TJkWlxw95kWm"
      },
      "source": [
        "# Filename: QML_Python_Worksheet_1.ipynb\n",
        "# Authors: Felipe Ixcamparic, Subadra Echeverria, M. Cerezo\n",
        "# Date: November 29, 2021\n",
        "# Description: First python exercice sheet.\n",
        "# Note: Unfortunately, github does not support inline latex equations, thus, the latex equations are NOT displayed correctly here. \n",
        "#       For an easy fix, download the notebook and open it on google collab."
      ],
      "execution_count": null,
      "outputs": []
    },
    {
      "cell_type": "markdown",
      "metadata": {
        "id": "V-m2R1-wVzVi"
      },
      "source": [
        "# QML Python Worksheet\n",
        "\n",
        "by M. Cerezo, Felipe Ixcamparic, Subadra Echeverria\n",
        "\n",
        "This set of exercises is aimed at introducing the basic tools that will be later used for a Quantum Machine Learning (QML) implementation. \n",
        "\n",
        "We refer the reader to the [Qiskit webpage](https://qiskit.org/documentation/tutorials/circuits/1_getting_started_with_qiskit.html) for further details."
      ]
    },
    {
      "cell_type": "markdown",
      "metadata": {
        "id": "NTZxSJ8YD5Wr"
      },
      "source": [
        "### Sección mía\n",
        "\n",
        "Montar mi carpeta de Drive en este Notebook e importar mi paquete quantumCh"
      ]
    },
    {
      "cell_type": "code",
      "metadata": {
        "colab": {
          "base_uri": "https://localhost:8080/"
        },
        "id": "imdHqjPJECLr",
        "outputId": "73c47677-34ab-4f9b-cdb9-05caeb481ce1"
      },
      "source": [
        "from google.colab import drive\n",
        "drive.mount('/content/drive')"
      ],
      "execution_count": null,
      "outputs": [
        {
          "output_type": "stream",
          "name": "stdout",
          "text": [
            "Mounted at /content/drive\n"
          ]
        }
      ]
    },
    {
      "cell_type": "code",
      "metadata": {
        "colab": {
          "base_uri": "https://localhost:8080/"
        },
        "id": "42DnsePnEIk0",
        "outputId": "cc5c9fed-1202-408f-957d-5e035e9abf9f"
      },
      "source": [
        "cd /content/drive/My\\ Drive/cond-mat-GT/desarrollo"
      ],
      "execution_count": null,
      "outputs": [
        {
          "output_type": "stream",
          "name": "stdout",
          "text": [
            "/content/drive/My Drive/cond-mat-GT/desarrollo\n"
          ]
        }
      ]
    },
    {
      "cell_type": "code",
      "metadata": {
        "id": "Dsq5oNsxEM1D"
      },
      "source": [
        "import quantumCh as q"
      ],
      "execution_count": null,
      "outputs": []
    },
    {
      "cell_type": "markdown",
      "metadata": {
        "id": "BMh5xY5dXKaD"
      },
      "source": [
        "## Getting started\n",
        "\n",
        "First thing's first. Lets install some packages we will use."
      ]
    },
    {
      "cell_type": "code",
      "metadata": {
        "id": "-Feh2DDlYkg2",
        "tags": [],
        "colab": {
          "base_uri": "https://localhost:8080/"
        },
        "outputId": "30be1711-eddf-4776-d684-20bf021dab14"
      },
      "source": [
        "!pip install qiskit\n",
        "!pip install pylatexenc"
      ],
      "execution_count": null,
      "outputs": [
        {
          "output_type": "stream",
          "name": "stdout",
          "text": [
            "Collecting qiskit\n",
            "  Downloading qiskit-0.32.1.tar.gz (13 kB)\n",
            "Collecting qiskit-terra==0.18.3\n",
            "  Downloading qiskit_terra-0.18.3-cp37-cp37m-manylinux2010_x86_64.whl (6.1 MB)\n",
            "\u001b[K     |████████████████████████████████| 6.1 MB 7.2 MB/s \n",
            "\u001b[?25hCollecting qiskit-aer==0.9.1\n",
            "  Downloading qiskit_aer-0.9.1-cp37-cp37m-manylinux_2_12_x86_64.manylinux2010_x86_64.whl (17.9 MB)\n",
            "\u001b[K     |████████████████████████████████| 17.9 MB 503 kB/s \n",
            "\u001b[?25hCollecting qiskit-ibmq-provider==0.18.1\n",
            "  Downloading qiskit_ibmq_provider-0.18.1-py3-none-any.whl (237 kB)\n",
            "\u001b[K     |████████████████████████████████| 237 kB 61.6 MB/s \n",
            "\u001b[?25hCollecting qiskit-ignis==0.6.0\n",
            "  Downloading qiskit_ignis-0.6.0-py3-none-any.whl (207 kB)\n",
            "\u001b[K     |████████████████████████████████| 207 kB 65.4 MB/s \n",
            "\u001b[?25hCollecting qiskit-aqua==0.9.5\n",
            "  Downloading qiskit_aqua-0.9.5-py3-none-any.whl (2.1 MB)\n",
            "\u001b[K     |████████████████████████████████| 2.1 MB 55.1 MB/s \n",
            "\u001b[?25hRequirement already satisfied: numpy>=1.16.3 in /usr/local/lib/python3.7/dist-packages (from qiskit-aer==0.9.1->qiskit) (1.19.5)\n",
            "Requirement already satisfied: scipy>=1.0 in /usr/local/lib/python3.7/dist-packages (from qiskit-aer==0.9.1->qiskit) (1.4.1)\n",
            "Requirement already satisfied: sympy>=1.3 in /usr/local/lib/python3.7/dist-packages (from qiskit-aqua==0.9.5->qiskit) (1.7.1)\n",
            "Requirement already satisfied: fastdtw<=0.3.4 in /usr/local/lib/python3.7/dist-packages (from qiskit-aqua==0.9.5->qiskit) (0.3.4)\n",
            "Collecting docplex>=2.21.207\n",
            "  Downloading docplex-2.22.213.tar.gz (634 kB)\n",
            "\u001b[K     |████████████████████████████████| 634 kB 43.1 MB/s \n",
            "\u001b[?25hRequirement already satisfied: h5py<3.3.0 in /usr/local/lib/python3.7/dist-packages (from qiskit-aqua==0.9.5->qiskit) (3.1.0)\n",
            "Requirement already satisfied: psutil>=5 in /usr/local/lib/python3.7/dist-packages (from qiskit-aqua==0.9.5->qiskit) (5.4.8)\n",
            "Requirement already satisfied: pandas in /usr/local/lib/python3.7/dist-packages (from qiskit-aqua==0.9.5->qiskit) (1.1.5)\n",
            "Collecting yfinance>=0.1.62\n",
            "  Downloading yfinance-0.1.67-py2.py3-none-any.whl (25 kB)\n",
            "Collecting retworkx>=0.8.0\n",
            "  Downloading retworkx-0.10.2-cp37-cp37m-manylinux_2_5_x86_64.manylinux1_x86_64.manylinux_2_12_x86_64.manylinux2010_x86_64.whl (1.4 MB)\n",
            "\u001b[K     |████████████████████████████████| 1.4 MB 47.3 MB/s \n",
            "\u001b[?25hRequirement already satisfied: setuptools>=40.1.0 in /usr/local/lib/python3.7/dist-packages (from qiskit-aqua==0.9.5->qiskit) (57.4.0)\n",
            "Collecting quandl\n",
            "  Downloading Quandl-3.7.0-py2.py3-none-any.whl (26 kB)\n",
            "Requirement already satisfied: scikit-learn>=0.20.0 in /usr/local/lib/python3.7/dist-packages (from qiskit-aqua==0.9.5->qiskit) (1.0.1)\n",
            "Collecting dlx<=1.0.4\n",
            "  Downloading dlx-1.0.4.tar.gz (5.5 kB)\n",
            "Requirement already satisfied: python-dateutil>=2.8.0 in /usr/local/lib/python3.7/dist-packages (from qiskit-ibmq-provider==0.18.1->qiskit) (2.8.2)\n",
            "Requirement already satisfied: requests>=2.19 in /usr/local/lib/python3.7/dist-packages (from qiskit-ibmq-provider==0.18.1->qiskit) (2.23.0)\n",
            "Collecting websocket-client>=1.0.1\n",
            "  Downloading websocket_client-1.2.1-py2.py3-none-any.whl (52 kB)\n",
            "\u001b[K     |████████████████████████████████| 52 kB 1.6 MB/s \n",
            "\u001b[?25hRequirement already satisfied: urllib3>=1.21.1 in /usr/local/lib/python3.7/dist-packages (from qiskit-ibmq-provider==0.18.1->qiskit) (1.24.3)\n",
            "Collecting requests-ntlm>=1.1.0\n",
            "  Downloading requests_ntlm-1.1.0-py2.py3-none-any.whl (5.7 kB)\n",
            "Requirement already satisfied: jsonschema>=2.6 in /usr/local/lib/python3.7/dist-packages (from qiskit-terra==0.18.3->qiskit) (2.6.0)\n",
            "Collecting ply>=3.10\n",
            "  Downloading ply-3.11-py2.py3-none-any.whl (49 kB)\n",
            "\u001b[K     |████████████████████████████████| 49 kB 4.0 MB/s \n",
            "\u001b[?25hCollecting tweedledum<2.0,>=1.1\n",
            "  Downloading tweedledum-1.1.1-cp37-cp37m-manylinux_2_12_x86_64.manylinux2010_x86_64.whl (943 kB)\n",
            "\u001b[K     |████████████████████████████████| 943 kB 47.7 MB/s \n",
            "\u001b[?25hCollecting symengine>0.7\n",
            "  Downloading symengine-0.8.1-cp37-cp37m-manylinux2010_x86_64.whl (38.2 MB)\n",
            "\u001b[K     |████████████████████████████████| 38.2 MB 1.3 MB/s \n",
            "\u001b[?25hCollecting fastjsonschema>=2.10\n",
            "  Downloading fastjsonschema-2.15.1-py3-none-any.whl (21 kB)\n",
            "Requirement already satisfied: dill>=0.3 in /usr/local/lib/python3.7/dist-packages (from qiskit-terra==0.18.3->qiskit) (0.3.4)\n",
            "Collecting python-constraint>=1.4\n",
            "  Downloading python-constraint-1.4.0.tar.bz2 (18 kB)\n",
            "Requirement already satisfied: six in /usr/local/lib/python3.7/dist-packages (from docplex>=2.21.207->qiskit-aqua==0.9.5->qiskit) (1.15.0)\n",
            "Requirement already satisfied: cached-property in /usr/local/lib/python3.7/dist-packages (from h5py<3.3.0->qiskit-aqua==0.9.5->qiskit) (1.5.2)\n",
            "Requirement already satisfied: chardet<4,>=3.0.2 in /usr/local/lib/python3.7/dist-packages (from requests>=2.19->qiskit-ibmq-provider==0.18.1->qiskit) (3.0.4)\n",
            "Requirement already satisfied: idna<3,>=2.5 in /usr/local/lib/python3.7/dist-packages (from requests>=2.19->qiskit-ibmq-provider==0.18.1->qiskit) (2.10)\n",
            "Requirement already satisfied: certifi>=2017.4.17 in /usr/local/lib/python3.7/dist-packages (from requests>=2.19->qiskit-ibmq-provider==0.18.1->qiskit) (2021.10.8)\n",
            "Collecting ntlm-auth>=1.0.2\n",
            "  Downloading ntlm_auth-1.5.0-py2.py3-none-any.whl (29 kB)\n",
            "Collecting cryptography>=1.3\n",
            "  Downloading cryptography-36.0.0-cp36-abi3-manylinux_2_24_x86_64.whl (3.6 MB)\n",
            "\u001b[K     |████████████████████████████████| 3.6 MB 53.4 MB/s \n",
            "\u001b[?25hRequirement already satisfied: cffi>=1.12 in /usr/local/lib/python3.7/dist-packages (from cryptography>=1.3->requests-ntlm>=1.1.0->qiskit-ibmq-provider==0.18.1->qiskit) (1.15.0)\n",
            "Requirement already satisfied: pycparser in /usr/local/lib/python3.7/dist-packages (from cffi>=1.12->cryptography>=1.3->requests-ntlm>=1.1.0->qiskit-ibmq-provider==0.18.1->qiskit) (2.21)\n",
            "Requirement already satisfied: joblib>=0.11 in /usr/local/lib/python3.7/dist-packages (from scikit-learn>=0.20.0->qiskit-aqua==0.9.5->qiskit) (1.1.0)\n",
            "Requirement already satisfied: threadpoolctl>=2.0.0 in /usr/local/lib/python3.7/dist-packages (from scikit-learn>=0.20.0->qiskit-aqua==0.9.5->qiskit) (3.0.0)\n",
            "Requirement already satisfied: mpmath>=0.19 in /usr/local/lib/python3.7/dist-packages (from sympy>=1.3->qiskit-aqua==0.9.5->qiskit) (1.2.1)\n",
            "Requirement already satisfied: multitasking>=0.0.7 in /usr/local/lib/python3.7/dist-packages (from yfinance>=0.1.62->qiskit-aqua==0.9.5->qiskit) (0.0.10)\n",
            "Collecting lxml>=4.5.1\n",
            "  Downloading lxml-4.6.4-cp37-cp37m-manylinux_2_17_x86_64.manylinux2014_x86_64.manylinux_2_24_x86_64.whl (6.3 MB)\n",
            "\u001b[K     |████████████████████████████████| 6.3 MB 38.7 MB/s \n",
            "\u001b[?25hRequirement already satisfied: pytz>=2017.2 in /usr/local/lib/python3.7/dist-packages (from pandas->qiskit-aqua==0.9.5->qiskit) (2018.9)\n",
            "Collecting inflection>=0.3.1\n",
            "  Downloading inflection-0.5.1-py2.py3-none-any.whl (9.5 kB)\n",
            "Requirement already satisfied: more-itertools in /usr/local/lib/python3.7/dist-packages (from quandl->qiskit-aqua==0.9.5->qiskit) (8.12.0)\n",
            "Building wheels for collected packages: qiskit, dlx, docplex, python-constraint\n",
            "  Building wheel for qiskit (setup.py) ... \u001b[?25l\u001b[?25hdone\n",
            "  Created wheel for qiskit: filename=qiskit-0.32.1-py3-none-any.whl size=11776 sha256=0a47332b63a7558698066b0526b05ce105a0ccd60ade46e1d13bd34dd839a22a\n",
            "  Stored in directory: /root/.cache/pip/wheels/0f/62/0a/c53eda1ead41c137c47c9730bc2771a8367b1ce00fb64e8cc6\n",
            "  Building wheel for dlx (setup.py) ... \u001b[?25l\u001b[?25hdone\n",
            "  Created wheel for dlx: filename=dlx-1.0.4-py3-none-any.whl size=5719 sha256=0cfc1f363404f2a5123bc466d66cf1624a1a8a7842df5c8b0add9a9ef78e3ad0\n",
            "  Stored in directory: /root/.cache/pip/wheels/78/55/c8/dc61e772445a566b7608a476d151e9dcaf4e092b01b0c4bc3c\n",
            "  Building wheel for docplex (setup.py) ... \u001b[?25l\u001b[?25hdone\n",
            "  Created wheel for docplex: filename=docplex-2.22.213-py3-none-any.whl size=696881 sha256=328dab677c969680a53f92c8851a5f0253461b68eca28c66057b1845b66b44b4\n",
            "  Stored in directory: /root/.cache/pip/wheels/90/69/6b/1375c68a5b7ff94c40263b151c86f58bd72200bf0c465b5ba3\n",
            "  Building wheel for python-constraint (setup.py) ... \u001b[?25l\u001b[?25hdone\n",
            "  Created wheel for python-constraint: filename=python_constraint-1.4.0-py2.py3-none-any.whl size=24081 sha256=2d9ee98f916f87d5644a254a6b08a2aea3eb0f61e79f5acec4d9b622891e5fbf\n",
            "  Stored in directory: /root/.cache/pip/wheels/07/27/db/1222c80eb1e431f3d2199c12569cb1cac60f562a451fe30479\n",
            "Successfully built qiskit dlx docplex python-constraint\n",
            "Installing collected packages: tweedledum, symengine, retworkx, python-constraint, ply, fastjsonschema, qiskit-terra, ntlm-auth, lxml, inflection, cryptography, yfinance, websocket-client, requests-ntlm, quandl, qiskit-ignis, docplex, dlx, qiskit-ibmq-provider, qiskit-aqua, qiskit-aer, qiskit\n",
            "  Attempting uninstall: lxml\n",
            "    Found existing installation: lxml 4.2.6\n",
            "    Uninstalling lxml-4.2.6:\n",
            "      Successfully uninstalled lxml-4.2.6\n",
            "Successfully installed cryptography-36.0.0 dlx-1.0.4 docplex-2.22.213 fastjsonschema-2.15.1 inflection-0.5.1 lxml-4.6.4 ntlm-auth-1.5.0 ply-3.11 python-constraint-1.4.0 qiskit-0.32.1 qiskit-aer-0.9.1 qiskit-aqua-0.9.5 qiskit-ibmq-provider-0.18.1 qiskit-ignis-0.6.0 qiskit-terra-0.18.3 quandl-3.7.0 requests-ntlm-1.1.0 retworkx-0.10.2 symengine-0.8.1 tweedledum-1.1.1 websocket-client-1.2.1 yfinance-0.1.67\n",
            "Collecting pylatexenc\n",
            "  Downloading pylatexenc-2.10.tar.gz (162 kB)\n",
            "\u001b[K     |████████████████████████████████| 162 kB 8.6 MB/s \n",
            "\u001b[?25hBuilding wheels for collected packages: pylatexenc\n",
            "  Building wheel for pylatexenc (setup.py) ... \u001b[?25l\u001b[?25hdone\n",
            "  Created wheel for pylatexenc: filename=pylatexenc-2.10-py3-none-any.whl size=136833 sha256=99856d81e2a5cc3dad34104dd6e1ab199ffa1f820154ee442b6271c0c6e1486d\n",
            "  Stored in directory: /root/.cache/pip/wheels/f1/8a/f5/33ee79d4473eb201b519fa40f989b842e373237395a3421f52\n",
            "Successfully built pylatexenc\n",
            "Installing collected packages: pylatexenc\n",
            "Successfully installed pylatexenc-2.10\n"
          ]
        }
      ]
    },
    {
      "cell_type": "code",
      "metadata": {
        "id": "GnDWSBaUVySY",
        "tags": []
      },
      "source": [
        "import numpy as np\n",
        "import matplotlib\n",
        "from matplotlib import pyplot as plt\n",
        "from qiskit import QuantumCircuit, QuantumRegister, ClassicalRegister\n",
        "from qiskit import Aer, transpile, assemble, execute\n",
        "from qiskit.visualization import plot_histogram\n",
        "import qiskit.quantum_info as qi\n",
        "from qiskit.quantum_info import *\n",
        "from IPython.display import Image\n",
        "from IPython.core.display import HTML "
      ],
      "execution_count": null,
      "outputs": []
    },
    {
      "cell_type": "markdown",
      "metadata": {
        "id": "yIUtXh38WgVY"
      },
      "source": [
        "## Hello World of Quantum Circuits\n",
        "\n",
        "Here we will show how to use the basics of Qiskit. "
      ]
    },
    {
      "cell_type": "code",
      "metadata": {
        "id": "e70wcJXgVlUM"
      },
      "source": [
        "# Create a Quantum Circuit acting on a quantum register of two qubits\n",
        "qcirc = QuantumCircuit(2)"
      ],
      "execution_count": null,
      "outputs": []
    },
    {
      "cell_type": "markdown",
      "metadata": {
        "id": "uIgjd4LqaK4J"
      },
      "source": [
        "We want to write the circuit that prepares a Bell pair."
      ]
    },
    {
      "cell_type": "code",
      "metadata": {
        "colab": {
          "base_uri": "https://localhost:8080/"
        },
        "id": "zAxrv2pwZ_ZX",
        "outputId": "f76dfb29-a24c-4815-d842-58ab93edeeb9"
      },
      "source": [
        "# Add a H gate on qubit 0, putting this qubit in superposition.\n",
        "qcirc.h(0)\n",
        "# Add a CX (CNOT) gate on control qubit 0 and target qubit 1, putting\n",
        "# the qubits in a Bell state.\n",
        "qcirc.cx(0, 1)"
      ],
      "execution_count": null,
      "outputs": [
        {
          "output_type": "execute_result",
          "data": {
            "text/plain": [
              "<qiskit.circuit.instructionset.InstructionSet at 0x7f1f61f28dd0>"
            ]
          },
          "metadata": {},
          "execution_count": 4
        }
      ]
    },
    {
      "cell_type": "code",
      "metadata": {
        "colab": {
          "base_uri": "https://localhost:8080/",
          "height": 140
        },
        "id": "LV9BEeVxaUWK",
        "outputId": "46307436-0ea0-430a-cb66-f0fc079c8f45"
      },
      "source": [
        "# We can visualize the circuit\n",
        "qcirc.draw(output='mpl')"
      ],
      "execution_count": null,
      "outputs": [
        {
          "output_type": "execute_result",
          "data": {
            "image/png": "[encoded data removed]",
            "text/plain": [
              "<Figure size 206.852x144.48 with 1 Axes>"
            ]
          },
          "metadata": {},
          "execution_count": 5
        }
      ]
    },
    {
      "cell_type": "markdown",
      "metadata": {
        "id": "kHMISaCSb6SY"
      },
      "source": [
        "Qiskit has a function called `statevector_simulator' which prints the quantum state obtained at the output of the circuit."
      ]
    },
    {
      "cell_type": "code",
      "metadata": {
        "colab": {
          "base_uri": "https://localhost:8080/"
        },
        "id": "Su0pl_hpaXK0",
        "outputId": "64daa0af-92d7-4e6e-ac7f-42eff2e82c4e"
      },
      "source": [
        "# Run the quantum circuit on a statevector simulator backend\n",
        "backend = Aer.get_backend('statevector_simulator')\n",
        "\n",
        "# Create a Quantum Program for execution\n",
        "job = backend.run(qcirc)\n",
        "result = job.result()\n",
        "outputstate = result.get_statevector(qcirc, decimals=10)\n",
        "print(outputstate)"
      ],
      "execution_count": null,
      "outputs": [
        {
          "output_type": "stream",
          "name": "stdout",
          "text": [
            "[0.70710678+0.j 0.        +0.j 0.        +0.j 0.70710678+0.j]\n"
          ]
        }
      ]
    },
    {
      "cell_type": "markdown",
      "metadata": {
        "id": "mpZ7dv1whNZQ"
      },
      "source": [
        "We can also simulate quantum measurements. For this purpose, we need to add measurements to the original circuit above, and use a different Aer backend."
      ]
    },
    {
      "cell_type": "code",
      "metadata": {
        "colab": {
          "base_uri": "https://localhost:8080/",
          "height": 185
        },
        "id": "9q2Gmou7hWMq",
        "outputId": "dc3d78e9-f3f4-4e82-8a18-eeb31a11dacc"
      },
      "source": [
        "# Create a Quantum Circuit with 2 quantum registers and 2 classical registers\n",
        "meas = QuantumCircuit(2, 2)\n",
        "meas.barrier(range(2))\n",
        "# map the quantum measurement to the classical bits\n",
        "meas.measure(range(2), range(2))\n",
        "\n",
        "# The Qiskit circuit object supports composition using the addition operator.\n",
        "qcirc.add_register(meas.cregs[0])\n",
        "qc = qcirc.compose(meas)\n",
        "\n",
        "#drawing the circuit\n",
        "qcirc.draw(output='mpl')"
      ],
      "execution_count": null,
      "outputs": [
        {
          "output_type": "execute_result",
          "data": {
            "image/png": "[encoded data removed]",
            "text/plain": [
              "<Figure size 206.852x204.68 with 1 Axes>"
            ]
          },
          "metadata": {},
          "execution_count": 7
        }
      ]
    },
    {
      "cell_type": "code",
      "metadata": {
        "id": "y9rUDwwfhLwC"
      },
      "source": [
        "# Use Aer's qasm_simulator\n",
        "backend_sim = Aer.get_backend('qasm_simulator')\n",
        "\n",
        "# Execute the circuit on the qasm simulator. We've set the number of repeats of the circuit to be 1024, which is the default.\n",
        "N_shots=1024\n",
        "job_sim = backend_sim.run(transpile(qc, backend_sim), shots=N_shots)\n",
        "\n",
        "# Grab the results from the job.\n",
        "result_sim = job_sim.result()"
      ],
      "execution_count": null,
      "outputs": []
    },
    {
      "cell_type": "code",
      "metadata": {
        "colab": {
          "base_uri": "https://localhost:8080/"
        },
        "id": "Bckfwf-Qh8le",
        "outputId": "71f00adb-ca57-47cd-9d78-59b94c3602f9"
      },
      "source": [
        "# We can print the measurement outcomes and the probability of each outcome\n",
        "counts = result_sim.get_counts(qc)\n",
        "print(counts)\n",
        "probability={}\n",
        "for ele in counts:\n",
        "  probability[ele]=counts[ele]/N_shots\n",
        "print(probability)"
      ],
      "execution_count": null,
      "outputs": [
        {
          "output_type": "stream",
          "name": "stdout",
          "text": [
            "{'00': 521, '11': 503}\n",
            "{'00': 0.5087890625, '11': 0.4912109375}\n"
          ]
        }
      ]
    },
    {
      "cell_type": "code",
      "metadata": {
        "colab": {
          "base_uri": "https://localhost:8080/",
          "height": 332
        },
        "id": "hc-sfIn6iJAb",
        "outputId": "47cecfba-99cf-4cad-a6aa-716b7d7ccb9b"
      },
      "source": [
        "# And we can visualize them\n",
        "plot_histogram(counts)"
      ],
      "execution_count": null,
      "outputs": [
        {
          "output_type": "execute_result",
          "data": {
            "image/png": "[encoded data removed]",
            "text/plain": [
              "<Figure size 504x360 with 1 Axes>"
            ]
          },
          "metadata": {},
          "execution_count": 10
        }
      ]
    },
    {
      "cell_type": "markdown",
      "metadata": {
        "id": "3h2N_C86hXGO"
      },
      "source": [
        "**Note**: This representation of the bitstring puts the most significant bit (MSB) in the left, and the least significant bit (LSB) on the right. This is the standard ordering of binary bitstrings. We order the qubits in the same way (qubit representing the MSB has index 0), which is why Qiskit uses a non-standard tensor product order."
      ]
    },
    {
      "cell_type": "markdown",
      "metadata": {
        "id": "-nPklh83j-CA"
      },
      "source": [
        "We can double-check that the error in those probabilities are within the statistical uncertainty of order $1/\\sqrt{N}$. Here $N=1024$. We recall that this uncertainty tells us that $p(i)=N_i/N\\pm 1/\\sqrt{N}$, where $N_i$ is the probability of the $i$-th outcome."
      ]
    },
    {
      "cell_type": "code",
      "metadata": {
        "colab": {
          "base_uri": "https://localhost:8080/"
        },
        "id": "y3ZysP2UisEF",
        "outputId": "4f37df2d-35e2-4c14-d280-2aa9ad09107e"
      },
      "source": [
        "statistical_error=1/N_shots**.5\n",
        "print(statistical_error)"
      ],
      "execution_count": null,
      "outputs": [
        {
          "output_type": "stream",
          "name": "stdout",
          "text": [
            "0.03125\n"
          ]
        }
      ]
    },
    {
      "cell_type": "markdown",
      "metadata": {
        "id": "-Njtys_EZcrz"
      },
      "source": [
        "We can also check that the measurement outcomes are correct by using the  `statevector_simulator' and computing $p(00)=\\text{Tr}[M_{00} \\rho]$, with $\\rho=|\\psi\\rangle\\langle\\psi|$.\n",
        "\n",
        "Here, we use $M_{00}=|0\\rangle\\langle 0|\\otimes|0\\rangle\\langle 0|=\\begin{pmatrix}1&0\\\\0&0\\end{pmatrix}\\otimes \\begin{pmatrix}1&0\\\\0&0\\end{pmatrix}=\\begin{pmatrix}1&0&0&0\\\\0&0&0&0\\\\0&0&0&0\\\\0&0&0&0\\end{pmatrix}$."
      ]
    },
    {
      "cell_type": "code",
      "metadata": {
        "colab": {
          "base_uri": "https://localhost:8080/"
        },
        "id": "yvcrqMjCaM57",
        "outputId": "2e6aa7ad-047e-4ed2-9cdd-0116fb26fca0"
      },
      "source": [
        "M00=np.array([[1,0,0,0],[0,0,0,0],[0,0,0,0],[0,0,0,0]])\n",
        "rho=np.outer(outputstate, outputstate.conj())\n",
        "p00=np.trace(np.matmul(M00,rho))\n",
        "print(p00)"
      ],
      "execution_count": null,
      "outputs": [
        {
          "output_type": "stream",
          "name": "stdout",
          "text": [
            "(0.5000000000190247+0j)\n"
          ]
        }
      ]
    },
    {
      "cell_type": "markdown",
      "metadata": {
        "id": "9OKBTUuj8Mqk"
      },
      "source": [
        "We can also create a circuit where we only measure one qubit.\n"
      ]
    },
    {
      "cell_type": "code",
      "metadata": {
        "colab": {
          "base_uri": "https://localhost:8080/",
          "height": 185
        },
        "id": "TrtjKlxEYY6z",
        "outputId": "38072fdf-2cb1-486c-9179-26197ff63711"
      },
      "source": [
        "# Create a Quantum Circuit acting on a quantum register of two qubits\n",
        "qcirc2 = QuantumCircuit(2)\n",
        "qcirc2.h(0)\n",
        "qcirc2.cx(0, 1)\n",
        "qc.draw(output='mpl')"
      ],
      "execution_count": null,
      "outputs": [
        {
          "output_type": "execute_result",
          "data": {
            "image/png": "[encoded data removed]",
            "text/plain": [
              "<Figure size 387.452x204.68 with 1 Axes>"
            ]
          },
          "metadata": {},
          "execution_count": 13
        }
      ]
    },
    {
      "cell_type": "code",
      "metadata": {
        "colab": {
          "base_uri": "https://localhost:8080/",
          "height": 185
        },
        "id": "cI-0BSQ58Lsa",
        "outputId": "42deb715-e507-49ca-ea03-76babda97a64"
      },
      "source": [
        "# Create a Quantum Circuit with 2 quantum registers and 1 classical registers\n",
        "meas2 = QuantumCircuit(2, 1)\n",
        "meas2.barrier(range(2))\n",
        "# map the quantum measurement to the classical bits\n",
        "meas2.measure(0, 0)\n",
        "\n",
        "# The Qiskit circuit object supports composition using the addition operator.\n",
        "qcirc2.add_register(meas2.cregs[0])\n",
        "qc2 = qcirc2.compose(meas2)\n",
        "\n",
        "#drawing the circuit\n",
        "qc.draw(output='mpl')"
      ],
      "execution_count": null,
      "outputs": [
        {
          "output_type": "execute_result",
          "data": {
            "image/png": "[encoded data removed]",
            "text/plain": [
              "<Figure size 387.452x204.68 with 1 Axes>"
            ]
          },
          "metadata": {},
          "execution_count": 14
        }
      ]
    },
    {
      "cell_type": "markdown",
      "metadata": {
        "id": "IsWYgFa98nqn"
      },
      "source": [
        "These are the measurement outcomes."
      ]
    },
    {
      "cell_type": "code",
      "metadata": {
        "colab": {
          "base_uri": "https://localhost:8080/"
        },
        "id": "CVzbe3uz8mxV",
        "outputId": "431d13d2-2d0f-484c-9f72-9d0f58c4f34e"
      },
      "source": [
        "# Use Aer's qasm_simulator\n",
        "backend_sim = Aer.get_backend('qasm_simulator')\n",
        "\n",
        "# Execute the circuit on the qasm simulator. We've set the number of repeats of the circuit to be 1024, which is the default.\n",
        "N_shots=1024\n",
        "job_sim = backend_sim.run(transpile(qc2, backend_sim), shots=N_shots)\n",
        "\n",
        "# Grab the results from the job.\n",
        "result_sim = job_sim.result()\n",
        "\n",
        "# We can print the measurement outcomes and the probability of each outcome\n",
        "counts = result_sim.get_counts(qc2)\n",
        "print(counts)\n",
        "probability={}\n",
        "for ele in counts:\n",
        "  probability[ele]=counts[ele]/N_shots\n",
        "print(probability)"
      ],
      "execution_count": null,
      "outputs": [
        {
          "output_type": "stream",
          "name": "stdout",
          "text": [
            "{'0': 499, '1': 525}\n",
            "{'0': 0.4873046875, '1': 0.5126953125}\n"
          ]
        }
      ]
    },
    {
      "cell_type": "code",
      "metadata": {
        "colab": {
          "base_uri": "https://localhost:8080/",
          "height": 323
        },
        "id": "ny53Unex82h-",
        "outputId": "5c92787f-6af8-4b60-d226-ad9669aeaa1a"
      },
      "source": [
        "# And we can visualize them\n",
        "plot_histogram(counts)"
      ],
      "execution_count": null,
      "outputs": [
        {
          "output_type": "execute_result",
          "data": {
            "image/png": "[encoded data removed]",
            "text/plain": [
              "<Figure size 504x360 with 1 Axes>"
            ]
          },
          "metadata": {},
          "execution_count": 16
        }
      ]
    },
    {
      "cell_type": "markdown",
      "metadata": {
        "id": "kTZQoG98eRGa"
      },
      "source": [
        "We can double check that the measurement outcomes are correct by using the  `statevector_simulator' and computing $p_A(0)=\\text{Tr}[(M_{0}\\otimes I_B) \\rho]$, with $\\rho=|\\psi\\rangle\\langle\\psi|$.\n",
        "\n",
        "Note that due to qiskit's qubit ordering convention, we need to build the kronecker product with different qubit ordering.\n",
        "\n",
        "Here, we use $(M_{0}\\otimes I_B)=\\begin{pmatrix}1&0\\\\0&1\\end{pmatrix}\\otimes \\begin{pmatrix}1&0\\\\0&0\\end{pmatrix}=\\begin{pmatrix}1&0&0&0\\\\0&0&0&0\\\\0&0&1&0\\\\0&0&0&0\\end{pmatrix}$."
      ]
    },
    {
      "cell_type": "code",
      "metadata": {
        "colab": {
          "base_uri": "https://localhost:8080/"
        },
        "id": "t8iYK0FoeRGb",
        "outputId": "63887e1a-5fab-4504-f769-b12def3e58f0"
      },
      "source": [
        "M00=np.array([[1,0,0,0],[0,0,0,0],[0,0,1,0],[0,0,0,0]])\n",
        "rho=np.outer(outputstate, outputstate.conj())\n",
        "p00=np.trace(np.matmul(M00,rho))\n",
        "print(p00)"
      ],
      "execution_count": null,
      "outputs": [
        {
          "output_type": "stream",
          "name": "stdout",
          "text": [
            "(0.5000000000190247+0j)\n"
          ]
        }
      ]
    },
    {
      "cell_type": "markdown",
      "metadata": {
        "id": "lGwJ_uZt7awh"
      },
      "source": [
        "## Quantum Operations\n",
        "\n",
        "You can find a summary of Qiskit's quantum operations [here](https://github.com/Qiskit/qiskit-tutorials/blob/master/tutorials/circuits/3_summary_of_quantum_operations.ipynb).\n",
        "\n",
        "For now, let us create a single qubit state that is rotated about the $Y$-axis on an angle $\\theta$."
      ]
    },
    {
      "cell_type": "code",
      "metadata": {
        "id": "aFkNVGCz7lEm"
      },
      "source": [
        "def rotation_Y(quantum_circuit,theta)-> None:\n",
        "  '''\n",
        "    Applying a rotation about the Y axis to a single qubit\n",
        "\n",
        "    Parameters\n",
        "    ----------\n",
        "    quantum_circuit: QuantumCircuit\n",
        "      The quantum cirquit to which we apply ansatz\n",
        "    theta: float\n",
        "        The parameters for the R_y gate\n",
        "\n",
        "  '''\n",
        "  quantum_circuit.ry(theta,0)"
      ],
      "execution_count": null,
      "outputs": []
    },
    {
      "cell_type": "code",
      "metadata": {
        "colab": {
          "base_uri": "https://localhost:8080/",
          "height": 95
        },
        "id": "jo-YI_dJ_Keb",
        "outputId": "e79d63a7-b339-4374-8aaa-79347eee923e"
      },
      "source": [
        "# We set theta=pi/2\n",
        "qcirc3 = QuantumCircuit(1)\n",
        "rotation_Y(qcirc3,np.pi/2)\n",
        "qcirc3.draw(output='mpl')"
      ],
      "execution_count": null,
      "outputs": [
        {
          "output_type": "execute_result",
          "data": {
            "image/png": "[encoded data removed]",
            "text/plain": [
              "<Figure size 133.526x84.28 with 1 Axes>"
            ]
          },
          "metadata": {},
          "execution_count": 19
        }
      ]
    },
    {
      "cell_type": "markdown",
      "metadata": {
        "id": "TE2XXMCRA6zr"
      },
      "source": [
        "We denote as $|\\psi(\\theta)\\rangle=R_y(\\theta)|0\\rangle$ the otput state from the previous circuit."
      ]
    },
    {
      "cell_type": "markdown",
      "metadata": {
        "id": "VJOY9NqakyON"
      },
      "source": [
        "### Computing expectation values.\n",
        "\n",
        "Here we will compute the expectation value of the $Z$ operator over a single qubit quantum state."
      ]
    },
    {
      "cell_type": "code",
      "metadata": {
        "colab": {
          "base_uri": "https://localhost:8080/"
        },
        "id": "hX4GAsiij_ym",
        "outputId": "ea1095e1-b5d1-45ca-8dcf-2a04a2d1b4d3"
      },
      "source": [
        "# First, let us define the Z-Pauli operator\n",
        "Z=np.array([[1,0],[0,-1]])\n",
        "print(Z)\n",
        "\n",
        "#We can also import it from qiskit as \n",
        "print(qi.Pauli('Z').to_matrix())"
      ],
      "execution_count": null,
      "outputs": [
        {
          "output_type": "stream",
          "name": "stdout",
          "text": [
            "[[ 1  0]\n",
            " [ 0 -1]]\n",
            "[[ 1.+0.j  0.+0.j]\n",
            " [ 0.+0.j -1.+0.j]]\n"
          ]
        }
      ]
    },
    {
      "cell_type": "code",
      "metadata": {
        "id": "YfcjNcOj1Q2M",
        "colab": {
          "base_uri": "https://localhost:8080/"
        },
        "outputId": "f3ba3605-3be2-42d5-ffd7-573dffa43bd4"
      },
      "source": [
        "q.MatrixForm(Z)\n",
        "q.MatrixForm(qi.Pauli('Z').to_matrix())"
      ],
      "execution_count": null,
      "outputs": [
        {
          "output_type": "stream",
          "name": "stdout",
          "text": [
            "⎛ 1  0  ⎞\n",
            "⎝ 0  -1 ⎠\n",
            "\n",
            "⎛ (1+0j)    0j    ⎞\n",
            "⎝   0j    (-1+0j) ⎠\n",
            "\n"
          ]
        }
      ]
    },
    {
      "cell_type": "markdown",
      "metadata": {
        "id": "cpWUJeC_lrvR"
      },
      "source": [
        "**Exercice 1:** \n",
        "\n",
        "Use the statevector_simulator backend to compute the expectation value of $Z$ as a function of $\\theta$. Here, use  matrix multiplication to compute $\\langle Z\\rangle=\\langle\\psi(\\theta)|Z|\\psi(\\theta)\\rangle$. Make a plot of $\\langle Z\\rangle$ versus $\\theta$.\n",
        "\n",
        "\n"
      ]
    },
    {
      "cell_type": "code",
      "metadata": {
        "colab": {
          "base_uri": "https://localhost:8080/"
        },
        "id": "Gqrbr4x2JSu6",
        "outputId": "37586d77-0f59-48be-fe0e-35ed9ed7ed1b"
      },
      "source": [
        "circuit = QuantumCircuit(1)\n",
        "rotation_Y(circuit, np.pi)\n",
        "\n",
        "backend = Aer.get_backend('statevector_simulator')\n",
        "\n",
        "job = backend.run(circuit)\n",
        "result = job.result()\n",
        "outputstate = result.get_statevector(circuit, decimals=3)\n",
        "print(outputstate)\n",
        "\n",
        "print( np.matmul(Z, outputstate))"
      ],
      "execution_count": null,
      "outputs": [
        {
          "output_type": "stream",
          "name": "stdout",
          "text": [
            "[0.+0.j 1.+0.j]\n",
            "[ 0.+0.j -1.+0.j]\n"
          ]
        }
      ]
    },
    {
      "cell_type": "code",
      "metadata": {
        "colab": {
          "base_uri": "https://localhost:8080/",
          "height": 340
        },
        "id": "wThwQEr1LhKP",
        "outputId": "d528acc6-2021-4d0b-9f2c-9f96de209b1d"
      },
      "source": [
        "theta = np.linspace(0,6,100)\n",
        "z_exp_values = []\n",
        "\n",
        "backend = Aer.get_backend('statevector_simulator')\n",
        "\n",
        "for i in range(100):\n",
        "  circuit = QuantumCircuit(1)\n",
        "\n",
        "  rotation_Y(circuit, theta[i])\n",
        "\n",
        "  #backend = Aer.get_backend('statevector_simulator')\n",
        "\n",
        "  job = backend.run(circuit)\n",
        "  result = job.result()\n",
        "  outputstate = result.get_statevector(circuit, decimals=10)\n",
        "\n",
        "  z_exp = np.vdot(outputstate, np.matmul(Z, outputstate))\n",
        "  z_exp_values.append(z_exp)\n",
        "\n",
        "plt.plot(theta, z_exp_values,'r--')\n",
        "plt.xlabel(r'$\\theta$',size=20)\n",
        "plt.ylabel(r'$\\langle Z \\rangle$',size=20)"
      ],
      "execution_count": null,
      "outputs": [
        {
          "output_type": "stream",
          "name": "stderr",
          "text": [
            "/usr/local/lib/python3.7/dist-packages/numpy/core/_asarray.py:83: ComplexWarning: Casting complex values to real discards the imaginary part\n",
            "  return array(a, dtype, copy=False, order=order)\n"
          ]
        },
        {
          "output_type": "execute_result",
          "data": {
            "text/plain": [
              "Text(0, 0.5, '$\\\\langle Z \\\\rangle$')"
            ]
          },
          "metadata": {},
          "execution_count": 13
        },
        {
          "output_type": "display_data",
          "data": {
            "image/png": "[encoded data removed]",
            "text/plain": [
              "<Figure size 432x288 with 1 Axes>"
            ]
          },
          "metadata": {
            "needs_background": "light"
          }
        }
      ]
    },
    {
      "cell_type": "markdown",
      "metadata": {
        "id": "_yBaoBYUAcmT"
      },
      "source": [
        "**Exercice 2:**\n",
        "\n",
        "Simulate measurements to compute the expectation value of $Z$ as a function of $\\theta$."
      ]
    },
    {
      "cell_type": "code",
      "metadata": {
        "id": "UT-1giLJkxPw"
      },
      "source": [
        "# Solution to Exercice 2:"
      ],
      "execution_count": null,
      "outputs": []
    },
    {
      "cell_type": "markdown",
      "metadata": {
        "id": "0UE2-ZPOB7ft"
      },
      "source": [
        "## First Variational Quantum Algorithm\n",
        "\n",
        "From the previous, we see that it is very easy to verify that $\\langle Z\\rangle$ is minimized for $\\theta=-\\pi$. However, we want to solve this problem numerically. First, we load an optimizer."
      ]
    },
    {
      "cell_type": "code",
      "metadata": {
        "id": "U7dlfn72Aark"
      },
      "source": [
        "# Load an optimization package\n",
        "from scipy.optimize import minimize"
      ],
      "execution_count": null,
      "outputs": []
    },
    {
      "cell_type": "markdown",
      "metadata": {
        "id": "qJVZJNZWCatA"
      },
      "source": [
        "**Exercice 3:** \n",
        "Define a cost function $C(\\theta)$ that takes as input a parameter $\\theta$ and outputs $\\langle\\psi(\\theta)|Z|\\psi(\\theta)\\rangle$."
      ]
    },
    {
      "cell_type": "code",
      "metadata": {
        "id": "Rr4bxmwqCHT1"
      },
      "source": [
        "# Solution to Exercice 3:\n",
        "def cost_function(theta):\n",
        "  '''\n",
        "  Define here.\n",
        "  '''\n",
        "  return(cost_value)\n"
      ],
      "execution_count": null,
      "outputs": []
    },
    {
      "cell_type": "code",
      "metadata": {
        "id": "zDnwUXQ_DCzh"
      },
      "source": [
        "## We can optimize the cost function using the minimize function.\n",
        "\n",
        "# First, we set a random parameter to start the optimziation\n",
        "t0 = np.random.rand() * 2 * np.pi\n",
        "\n",
        "# We then run the optimization using the COBYLA method, with a maximum of 300 iteration steps\n",
        "out = minimize(cost_function, x0, method=\"COBYLA\", options={'maxiter':300}, callback=callback)"
      ],
      "execution_count": null,
      "outputs": []
    },
    {
      "cell_type": "markdown",
      "metadata": {
        "id": "rMeIDjibC8Pk"
      },
      "source": [
        "**Exercice 4:** \n",
        "Verify that the optimization finds the correct solution of $\\theta=-\\pi\\,\\, \\text{mod}(2\\pi)$."
      ]
    },
    {
      "cell_type": "markdown",
      "metadata": {
        "id": "1EtYDZpIE0eG"
      },
      "source": [
        "**Exercice 5:** \n",
        "Plot the cost function value versus iteration step.\n",
        "\n",
        "Tip: define an empty array `cost_function_values = [ ]` and add a line to the cost function that appends cost value to the previous array: `cost_function_values.append( )`."
      ]
    },
    {
      "cell_type": "code",
      "metadata": {
        "id": "PLj_IcjRFUkT"
      },
      "source": [
        "# Solution to Exercice 5:"
      ],
      "execution_count": null,
      "outputs": []
    },
    {
      "cell_type": "markdown",
      "metadata": {
        "id": "SHKHLq3KFUJM"
      },
      "source": [
        "## Second Variational Quantum Algorithm\n",
        "\n",
        "Here we implement a variational algorithm in two qubits."
      ]
    },
    {
      "cell_type": "code",
      "metadata": {
        "id": "Bn-kUITZEv2U"
      },
      "source": [
        "# First, let us define a two qubit gate that we will use as a basis for the parametrized two qubit circuit.\n",
        "\n",
        "def two_qubit_gate(quantum_circuit,parameters,q0,q1)-> None:\n",
        "  '''\n",
        "    Applying a rotation about the Y axis to a single qubit\n",
        "\n",
        "    Parameters\n",
        "    ----------\n",
        "    quantum_circuit: QuantumCircuit\n",
        "      The quantum cirquit to which we apply ansatz\n",
        "    parameters: float\n",
        "        The parameters for the rotations \n",
        "    q1: int\n",
        "      first qubit that the gate acts on\n",
        "    q2: int\n",
        "      second qubit that the gate acts on\n",
        "\n",
        "  '''\n",
        "  quantum_circuit.ry(parameters[0],q0)\n",
        "  quantum_circuit.ry(parameters[1],q1)\n",
        "  quantum_circuit.cx(q0,q1)\n",
        "  quantum_circuit.ry(parameters[2],q0)\n",
        "  quantum_circuit.ry(parameters[3],q1)\n"
      ],
      "execution_count": null,
      "outputs": []
    },
    {
      "cell_type": "code",
      "metadata": {
        "id": "dPc3cSodEzIi"
      },
      "source": [
        "# Here we show the action of the two-qubit gate with 4 random angles\n",
        "random_parameters = np.random.rand(4) * 2 * np.pi\n",
        "qcirc4 = QuantumCircuit(2)\n",
        "two_qubit_gate(qcirc4,random_parameters,0,1)\n",
        "qcirc4.draw()"
      ],
      "execution_count": null,
      "outputs": []
    },
    {
      "cell_type": "markdown",
      "metadata": {
        "id": "EuXIPQ9pGvTo"
      },
      "source": [
        "**Exercice 6:** \n",
        "If we apply two layers of the `two_qubit_gate unitary` we will have a redundancy of two Ry gates acting one after the other. How can we remove this parameter redundancy?"
      ]
    },
    {
      "cell_type": "code",
      "metadata": {
        "id": "7bEsUXiII8Y4"
      },
      "source": [
        "# Solution to Exercice 6:"
      ],
      "execution_count": null,
      "outputs": []
    },
    {
      "cell_type": "markdown",
      "metadata": {
        "id": "woG1lVcsHEGx"
      },
      "source": [
        "**Exercice 7:**\n",
        "\n",
        "Write cost functions that minimize the expectation values $\\langle Z\\otimes Z\\rangle$ and $\\langle X\\otimes I\\rangle$."
      ]
    },
    {
      "cell_type": "code",
      "metadata": {
        "id": "s1y5aCH8I9ni"
      },
      "source": [
        "# Solution to Exercice 7:"
      ],
      "execution_count": null,
      "outputs": []
    },
    {
      "cell_type": "markdown",
      "metadata": {
        "id": "YfVMM5u5HaVA"
      },
      "source": [
        "## The Ising Model\n",
        "The Ising model is a well-known condensed matter model that describes ferromagnetism in statistical mechanics. At its core, it describes interactions between spins in the systems and the interactions between the spins and an external magnetic field.\n",
        "\n",
        "The Hamiltonian of the model is\n",
        "\n",
        "$H=-\\sum_{i=1}^n X_i\\otimes X_{i+1}-g\\sum_{i=1}^n Z_i$.\n",
        "\n",
        "Here, the terms $X_i\\otimes X_{i+1}$ describe the spin-spin interaction, while $Z_i$ is the interaction between the spins and a magnetic field along the $z$ direction. \n",
        "\n",
        "This ground states of this model have a `phase transition` at $g=1$, such that for $g\\leq 1$ the states are paramegnetic, while for $g\\geq 1$ they are ferromagnetic."
      ]
    },
    {
      "cell_type": "markdown",
      "metadata": {
        "id": "9KBXSu7nIfCl"
      },
      "source": [
        "**Exercice 8:**\n",
        "\n",
        "Explicitly write the matrix for the Hamiltonian $H$ of the Ising model for $n=2,4,6$ spins. Then, make a plot of the eigenvalues of $H$ as a function of $g$. What happens at $g=1$?"
      ]
    },
    {
      "cell_type": "code",
      "metadata": {
        "id": "3YFrZkh0I_BM"
      },
      "source": [
        "# Solution to Exercice 8:"
      ],
      "execution_count": null,
      "outputs": []
    },
    {
      "cell_type": "markdown",
      "metadata": {
        "id": "5oDVQbidJTkI"
      },
      "source": [
        "**Exercice 9:**\n",
        "\n",
        "Create a Variational Quantum Eigensolver (VQE) algorithm that finds the ground state of $H$ for $g=.25,.5,1.25,1.5$ (for $n=4$ or $n=6$).\n",
        "\n",
        "For this purpose, first create a layered ansatz as the one shown bellow."
      ]
    },
    {
      "cell_type": "code",
      "metadata": {
        "id": "Qk3L05Yw5kW2",
        "outputId": "fdf143b2-7f12-4867-8ade-8eb6ae1d5b33"
      },
      "source": [
        "Image(url= \"https://entangledphysics.files.wordpress.com/2021/11/ansatz.png\")"
      ],
      "execution_count": null,
      "outputs": [
        {
          "data": {
            "text/html": [
              "<img src=\"https://entangledphysics.files.wordpress.com/2021/11/ansatz.png\"/>"
            ],
            "text/plain": [
              "<IPython.core.display.Image object>"
            ]
          },
          "execution_count": 27,
          "metadata": {},
          "output_type": "execute_result"
        }
      ]
    },
    {
      "cell_type": "markdown",
      "metadata": {
        "id": "v3Xn_Rws5kW2"
      },
      "source": [
        "Here, $R_y$ are rotations about the $y$ axis (with independent angles). We show an ansatz with 3 layers."
      ]
    },
    {
      "cell_type": "code",
      "metadata": {
        "id": "9KL32BhHJ07a"
      },
      "source": [
        "# Solution to Exercice 9:"
      ],
      "execution_count": null,
      "outputs": []
    },
    {
      "cell_type": "markdown",
      "metadata": {
        "id": "YlxjdZNEJ1Ax"
      },
      "source": [
        "## A Quantum Dataset\n",
        "The Ising model provides a perfect way to create a dataset for quantum machine learning. Specifically, we will here create a supervised learning task of clasfifying states according go the phase of matter they belong to.\n",
        "\n",
        "As previously mentioned, the ground states of the Ising model are paramagnetic for $g\\leq 1$, and ferromagnetic for $g\\geq 1$.\n",
        "\n",
        "As shown in the figure below, this allows us to create a dataset of ground states $|\\psi_i\\rangle$ belonging to the either the paramagnetic of ferromagnetic phase."
      ]
    },
    {
      "cell_type": "code",
      "metadata": {
        "id": "lwQa8c165kW2",
        "outputId": "0c5dba28-a0de-402c-9b44-d27899314066"
      },
      "source": [
        "Image(url=\"https://entangledphysics.files.wordpress.com/2021/11/qml.png\")"
      ],
      "execution_count": null,
      "outputs": [
        {
          "data": {
            "text/html": [
              "<img src=\"https://entangledphysics.files.wordpress.com/2021/11/qml.png\"/>"
            ],
            "text/plain": [
              "<IPython.core.display.Image object>"
            ]
          },
          "execution_count": 25,
          "metadata": {},
          "output_type": "execute_result"
        }
      ]
    },
    {
      "cell_type": "markdown",
      "metadata": {
        "id": "KxQTot1aF-jA"
      },
      "source": [
        "**Exercice 10:**\n",
        "\n",
        "Randomly sample 30 fields $g$ in each phase and run VQE algorithms to create a dataset of $60$ ground states of the Ising model (for $n=6$). \n",
        "\n",
        "[Note: Check that VQE outputs the correct states! We want a high quality dataset. You can do this by only accepting VQE solutions that are within an error of 0.01 from the true value.]\n",
        "\n",
        "We will divide this data into 2 sets:\n",
        "\n",
        "A training set of $40$ states, and a testing set of $20$ states."
      ]
    },
    {
      "cell_type": "code",
      "metadata": {
        "id": "GxAlShJLKF83"
      },
      "source": [
        "# Solution to Exercice 10:"
      ],
      "execution_count": null,
      "outputs": []
    },
    {
      "cell_type": "markdown",
      "metadata": {
        "id": "bRdBpvT7GAbr"
      },
      "source": [
        "\n",
        "Once we have the dataset, we can send the states trough a Quantum Neural Network that will learn to classify them. In this case, we will use a Quantum Convolutional Neural Network (QCNN). Below we show a QCNN for 4 qubits."
      ]
    },
    {
      "cell_type": "code",
      "metadata": {
        "id": "GinLEIM65kW3",
        "outputId": "713b15a7-5777-432f-92f4-ae9770159671"
      },
      "source": [
        "Image(url=\"https://entangledphysics.files.wordpress.com/2021/11/qcnn.png \")"
      ],
      "execution_count": null,
      "outputs": [
        {
          "data": {
            "text/html": [
              "<img src=\"https://entangledphysics.files.wordpress.com/2021/11/qcnn.png \"/>"
            ],
            "text/plain": [
              "<IPython.core.display.Image object>"
            ]
          },
          "execution_count": 26,
          "metadata": {},
          "output_type": "execute_result"
        }
      ]
    },
    {
      "cell_type": "markdown",
      "metadata": {
        "id": "hbO7244OG_FC"
      },
      "source": [
        "**Exercice 11:**\n",
        "\n",
        "Write a code for the QCNN ansatz."
      ]
    },
    {
      "cell_type": "code",
      "metadata": {
        "id": "59SfAoqzG9xZ"
      },
      "source": [
        "# Solution to Exercice 11:"
      ],
      "execution_count": null,
      "outputs": []
    },
    {
      "cell_type": "markdown",
      "metadata": {
        "id": "0Rl0yxTXHGrc"
      },
      "source": [
        "The way in which we assign labels is by measuring the expectation value of the Pauli $Z$ operator on the output single-qubit state of the QCNN $\\rho_i(\\alpha)=\\text{Tr}_{trash}[|\\psi(\\alpha)\\rangle\\langle\\psi(\\alpha)|]$, where $\\alpha$ are the trainable parameters in the QCNN, $|\\psi(\\alpha)\\rangle$ the full state at the output of the QCNN, and $trash$ the subset of qubits that are not measured. In the picture above, $|\\psi(\\alpha)\\rangle$ is a pure state on four qubits and $\\rho_i(\\alpha)$ is the reduced state on the bottom qubit.\n",
        "\n",
        "That is, the assigned label is $\\widetilde{y}_i(\\alpha)=\\text{Tr}[\\rho_i(\\alpha)Z]$.\n",
        "\n",
        "Note that, one can always compute this expectation value (using qiskit inverse kronecker product notation) as \n",
        "\n",
        "$\\widetilde{y}_i(\\alpha)=\\text{Tr}[|\\psi_i(\\alpha)\\rangle\\langle \\psi_i(\\alpha)|(Z\\otimes I\\otimes I\\otimes I)]=\\langle \\psi_i(\\alpha)|(Z\\otimes I\\otimes I\\otimes I)|\\psi_i(\\alpha)\\rangle$.\n",
        "\n",
        "And we train the mean-squared error loss function:\n",
        "$\\mathcal{L}(\\alpha)=\\frac{1}{40}\\sum_{i=1}^{40}(\\widetilde{y}_i(\\alpha)-y_i)^2$."
      ]
    },
    {
      "cell_type": "markdown",
      "metadata": {
        "id": "Li0LyJUdHvN2"
      },
      "source": [
        "**Exercice 12:**\n",
        "\n",
        "Train the QCNN to classify quantum states according to the phase of matter that they belong to."
      ]
    },
    {
      "cell_type": "code",
      "metadata": {
        "id": "gc1sw8znH2qX"
      },
      "source": [
        "# Solution to Exercice 12:"
      ],
      "execution_count": null,
      "outputs": []
    },
    {
      "cell_type": "markdown",
      "metadata": {
        "id": "l8GBLeOj2KAF"
      },
      "source": [
        "Once we have trained the QCNN, we need to test its accurancy in clasifying. However, the expectation values previously computed are continous numbers in $[-1,1]$, while the true labels are discrete values in the set $\\{-1,1\\}$.\n",
        "\n",
        "In order to assing a discrete label to each state, we need a discretizing function. For instance, this can be achieved by\n",
        "\n",
        "$\\widehat{y}_i=1$ if $\\widetilde{y}_i(\\alpha)\\geq 0$, \n",
        "\n",
        "and \n",
        "\n",
        "$\\widehat{y}_i=-1$ if $\\widetilde{y}_i(\\alpha)< 0$.\n",
        "\n",
        "Given this discretization, we can now use the $20$ states in the testing set  to check how many of the assigned labels $\\widehat{y}_i$ match with the true labels $y_i$."
      ]
    },
    {
      "cell_type": "markdown",
      "metadata": {
        "id": "jZiBxZDS24Wr"
      },
      "source": [
        "**Exercice 13:**\n",
        "\n",
        "Compute the percentage of correct label assignment on the testing set."
      ]
    },
    {
      "cell_type": "code",
      "metadata": {
        "id": "gd-X-CtP2qWw"
      },
      "source": [
        "# Solution to Exercice 13:"
      ],
      "execution_count": null,
      "outputs": []
    }
  ]
}